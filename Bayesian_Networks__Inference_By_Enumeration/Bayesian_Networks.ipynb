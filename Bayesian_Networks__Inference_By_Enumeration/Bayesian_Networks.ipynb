{
 "cells": [
  {
   "cell_type": "markdown",
   "metadata": {},
   "source": [
    "<center>\n",
    " \n",
    "# Knowledge Representation #\n",
    "</center>\n",
    "<br><br>\n",
    "<h1>Assignment 2</h1><br>\n",
    "<b>Gaurav Kumar</b><br>\n",
    "<b>R00171515</b>\n"
   ]
  },
  {
   "cell_type": "markdown",
   "metadata": {},
   "source": [
    "<br><br>\n",
    "Importing the required libraries"
   ]
  },
  {
   "cell_type": "code",
   "execution_count": 80,
   "metadata": {},
   "outputs": [],
   "source": [
    "from probability import *\n",
    "from utils import print_table\n",
    "from notebook import psource, pseudocode, heatmap"
   ]
  },
  {
   "cell_type": "markdown",
   "metadata": {},
   "source": [
    "i.A.) Finding probability of Snake Eyes"
   ]
  },
  {
   "cell_type": "code",
   "execution_count": 81,
   "metadata": {},
   "outputs": [],
   "source": [
    "def qOne():\n",
    "\n",
    "    P = ProbDist('Roll'); P['1'], P['2'], P['3'], P['4'], P['5'], P['6'] = 1/6, 1/6, 1/6, 1/6, 1/6, 1/6;# Probability of each outcome is 1/6\n",
    "    prob11 = P['1'] + P['1']# Probability of getting 1 on both dices (each outome is exclusive of the other)\n",
    "    \n",
    "    print(\"i.A.) Probability of Snake Eyes is\", prob11,\"\\n\")# Printing the probability of getting(1,1)"
   ]
  },
  {
   "attachments": {
    "image.png": {
     "image/png": "[encoded data removed]"
    }
   },
   "cell_type": "markdown",
   "metadata": {},
   "source": [
    "ii.Qi.) <h3>Constrcting a Bayesian Network</h3><br>\n",
    "\n",
    "<b>Variables</b>: Traffic (T), Rain (R), Motorway (M), Late (L), BossCalls (B)\n",
    "<br><br><b>Network Topology</b>:\n",
    "<pre>-Sometimes you decide to take the Motorway\n",
    "-Rain can result in you being late\n",
    "-Traffic can result in you being late.\n",
    "-Being late can cause your boss to call.\n",
    "</pre>\n",
    "\n",
    "<br>\n",
    "\n",
    "The Resulting Bayesian Network is:\n",
    "\n",
    "![image.png](attachment:image.png)"
   ]
  },
  {
   "cell_type": "markdown",
   "metadata": {},
   "source": [
    "<h4>ii.Qiii.)</h4>"
   ]
  },
  {
   "cell_type": "code",
   "execution_count": 82,
   "metadata": {},
   "outputs": [],
   "source": [
    "def qTwo(bn):\n",
    "    \n",
    "    print(\"ii.Qiii.) CPT for the Late node is :\",bn.variable_node('Late').cpt,\"\\n\")\n",
    "    # Priting the Conditional Probability Table (CPT) of the node 'Late' from the Bayesian Network\n",
    "    \n",
    "    motorway_node = BayesNode('Motorway', '', 0.01)\n",
    "    # Creating a BayesNode of 'Motorway'\n",
    "    \n",
    "    print(\"ii.Qiii.a.) Probability you take the motorway is :\",motorway_node.p(True, {}))\n",
    "    # Printing the probability of taking motorway to go to office\n",
    "    \n",
    "    boss_node = BayesNode('Boss_Calls', 'Late', {T: 0.80, F: 0.10})\n",
    "    # Creating a BayesNode of 'Boss_Calls'\n",
    "    \n",
    "    print(\"ii.Qiii.b.) Probability the boss does not call given that you are late is :\",boss_node.p(False, {'Late' : True}))\n",
    "    # Printing the probability of Boss doesn't call even if you are late.\n",
    "    \n",
    "    late_node = BayesNode('Late', 'Rain Traffic Motorway',{(T, T, T): 0.80, (T, T, F): 0.98, (T, F, T): 0.2, (T, F, F): 0.3, (F, T, T): 0.25, (F, T, F): 0.24, (F, F, T): 0.001, (F, F, F): 0.05})\n",
    "    # Creating a BayesNode of 'Late'\n",
    "    \n",
    "    print(\"ii.Qiii.c.) Probability you are late when its raining & there is traffic as you took the Motorway is :\",late_node.p(True, {'Rain' : True, 'Traffic' : True, 'Motorway' : True}),\"\\n\")\n",
    "    # Printing the probability of you are late when its raining & there is traffic as you took the Motorway."
   ]
  },
  {
   "cell_type": "markdown",
   "metadata": {},
   "source": [
    "<h3>iii.) Exact Inference in Bayesian Networks</h3>\n",
    "\n",
    "<h4>A.) Inference by Enumeration</h4>"
   ]
  },
  {
   "cell_type": "code",
   "execution_count": 83,
   "metadata": {},
   "outputs": [],
   "source": [
    "def qThree(bn):\n",
    "    \n",
    "    ans_dist = enumeration_ask('Rain', {'Boss_Calls': True}, bn)# Getting inference of 'Rain' given that the Boss calls\n",
    "    print(\"iii.Qi.a.) It is raining when the Boss calls\",ans_dist[True]*100,\"% of the time\")\n",
    "    #Printing the percentage of the times it is raining when the boss calls\n",
    "    \n",
    "    ans_dist = enumeration_ask('Rain', {'Boss_Calls': True}, bn)# Getting inference of 'Rain' given that the Boss calls\n",
    "    print(\"\\t\\tIt is not raining when the Boss calls\",ans_dist[False]*100,\"% of the time\\n\")\n",
    "    #Printing the percentage of the times it is not raining when the boss calls\n",
    "    \n",
    "    ans_dist = enumeration_ask('Traffic', {'Boss_Calls': True}, bn)# Getting inference of 'Traffic' given that the Boss calls\n",
    "    print(\"iii.Qi.b.) There is traffic when the Boss calls around\",ans_dist[True]*100,\"% of the time\")\n",
    "    #Printing the percentage of the times you were stuck in Traffic when the boss calls\n",
    "    \n",
    "    ans_dist = enumeration_ask('Traffic', {'Boss_Calls': True}, bn)# Getting inference of 'Traffic' given that the Boss calls\n",
    "    print(\"\\t\\tThere is no traffic when the Boss calls around\",ans_dist[False]*100,\"% of the time\\n\")\n",
    "    #Printing the percentage of the times you were stuck in Traffic when the boss calls\n",
    "    \n",
    "    ans_dist = enumeration_ask('Motorway', {'Boss_Calls': True}, bn)# Getting inference of 'Motorway' given that the Boss calls\n",
    "    print(\"iii.Qi.c.) I am using the Motorway when the Boss calls around\",ans_dist[True]*100,\"% of the time\")\n",
    "    #Printing the percentage of the times you took motorway when the boss calls\n",
    "    \n",
    "    ans_dist = enumeration_ask('Motorway', {'Boss_Calls': True}, bn)# Getting inference of 'Motorway' given that the Boss calls\n",
    "    print(\"\\t\\tI am not using the Motorway when the Boss calls around\",ans_dist[False]*100,\"% of the time\\n\")\n",
    "    #Printing the percentage of the times you took motorway when the boss calls\n",
    "    \n",
    "    ans_dist = enumeration_ask('Boss_Calls', {'Traffic': True, 'Rain' : True}, bn)# Getting inference of 'Boss_Calls' given that there is traffic and it is raining\n",
    "    print(\"iii.Qi.d.) The Boss calls when it is raining and there is Traffic around\",ans_dist[True]*100,\"% of the time\")\n",
    "    #Printing the percentage of the times it is raining when the boss calls\n",
    "    \n",
    "    ans_dist = enumeration_ask('Boss_Calls', {'Traffic': True, 'Rain' : True}, bn)# Getting inference of 'Rain' given that there is traffic and it is raining\n",
    "    print(\"\\t\\tThe Boss does not call when it is raining and there is Traffic around\",ans_dist[False]*100,\"% of the time\")\n",
    "    #Printing the percentage of the times the boss calls when there is traffic and it is raining"
   ]
  },
  {
   "cell_type": "markdown",
   "metadata": {},
   "source": [
    "Creating Bayesian Network using BayesNet code from AIMA repository"
   ]
  },
  {
   "cell_type": "code",
   "execution_count": 84,
   "metadata": {},
   "outputs": [],
   "source": [
    "def BN():\n",
    "    \n",
    "    T, F = True, False# Setting the variables T and F to boolean values True and False respectively.\n",
    "\n",
    "    lateToOffice = BayesNet([\n",
    "    ('Rain', '', 0.41),# Setting probability of Rain to the given value 0.41\n",
    "    ('Traffic', '', 0.15),# Setting probability of Traffic to the given value 0.15\n",
    "    ('Motorway', '', 0.01),# Setting probability of Motorway to the given value 0.01\n",
    "    ('Late', 'Rain Traffic Motorway', {(T, T, T): 0.80, (T, T, F): 0.98, (T, F, T): 0.2, (T, F, F): 0.3, (F, T, T): 0.25, (F, T, F): 0.24, (F, F, T): 0.001, (F, F, F): 0.05}),\n",
    "    # Setting the conditional probability of getting Late given that there is Rain and/or Traffic and/or Motorway\n",
    "    ('Boss_Calls', 'Late', {T: 0.80, F: 0.10})# Setting the conditional probability of Boss calls given that you are Late to office\n",
    "    ])    \n",
    "    \n",
    "    return lateToOffice# Returning the bayesian network"
   ]
  },
  {
   "cell_type": "code",
   "execution_count": 85,
   "metadata": {},
   "outputs": [
    {
     "name": "stdout",
     "output_type": "stream",
     "text": [
      "i.A.) Probability of Snake Eyes is 0.3333333333333333 \n",
      "\n",
      "ii.Qiii.) CPT for the Late node is : {(True, True, True): 0.8, (True, True, False): 0.98, (True, False, True): 0.2, (True, False, False): 0.3, (False, True, True): 0.25, (False, True, False): 0.24, (False, False, True): 0.001, (False, False, False): 0.05} \n",
      "\n",
      "ii.Qiii.a.) Probability you take the motorway is : 0.01\n",
      "ii.Qiii.b.) Probability the boss does not call given that you are late is : 0.19999999999999996\n",
      "ii.Qiii.c.) Probability you are late when its raining & there is traffic as you took the Motorway is : 0.8 \n",
      "\n",
      "iii.Qi.a.) It is raining when the Boss calls 63.10068386372213 % of the time\n",
      "\t\tIt is not raining when the Boss calls 36.89931613627787 % of the time\n",
      "\n",
      "iii.Qi.b.) There is traffic when the Boss calls around 29.107803254955645 % of the time\n",
      "\t\tThere is no traffic when the Boss calls around 70.89219674504434 % of the time\n",
      "\n",
      "iii.Qi.c.) I am using the Motorway when the Boss calls around 0.8049442854868619 % of the time\n",
      "\t\tI am not using the Motorway when the Boss calls around 99.19505571451313 % of the time\n",
      "\n",
      "iii.Qi.d.) The Boss calls when it is raining and there is Traffic around 78.474 % of the time\n",
      "\t\tThe Boss does not call when it is raining and there is Traffic around 21.525999999999993 % of the time\n"
     ]
    }
   ],
   "source": [
    "beliefNetwork = BN()# Calling the BN function to create Bayesian Network\n",
    "\n",
    "qOne()# Calling qOne function\n",
    "qTwo(beliefNetwork)# Calling qTwo function passing the bayesian network as an argument\n",
    "qThree(beliefNetwork)# Calling qThree function passing the bayesian network as an argument"
   ]
  },
  {
   "cell_type": "markdown",
   "metadata": {},
   "source": [
    "<b>iii.) Qii.) Inference by Enumeration</b> helps to get the probability distribution of a query variable 'X' given the observed (evidence) variable(s) 'e' from the bayesian network 'bn'.\n",
    "\n",
    "The general query for inference by enumeration is:\n",
    "\n",
    "P(X, $e_{1-n}$, bn)\n",
    "\n",
    "Along with the observed variables, there can be some hidden variables.\n",
    "For eg. in iii.Qi.A) <b>It is raining when the Boss calls X% of the time</b>; the observed variable 'e' is 'boss calls' and the query variable 'X' is 'Rain'. Here, the hidden variables are 'Motorway', 'Traffic' and 'Late'. Inference by enumeration will take these variable also into consideration to find the joint probability distribution of 'Rain' given 'Boss Calls' as below:\n",
    "\n",
    "P('Rain'|'Boss Calls')<br>\n",
    "=P('Rain','Boss Calls')/P('Boss Calls')<br>\n",
    "=α * P('Rain','Boss Calls')<br>\n",
    "=α * $Σ_{motorway}$$Σ_{traffic}$$Σ_{late}$ * P('Rain','Motorway','Traffic','Late','Boss Calls')<br>\n",
    "=α * P('Rain')$Σ_{motorway}$ * P('Motorway')$Σ_{traffic}$ * P('Traffic')$Σ_{late}$ * P('Late'|'Rain','Motorway','Traffic') * P('Boss Calls'|'Late')<br>\n",
    "\n",
    "Here, α = 1/P('Boss Calls')\n",
    "\n",
    "Similarly, for the other parts of iii.Qi.\n",
    "\n",
    "It typically creates a new table from the given joint distribution table that matches the given evidence, adds up the hidden variables in the newly created table and normalizes the result.\n",
    "\n"
   ]
  }
 ],
 "metadata": {
  "kernelspec": {
   "display_name": "Python 3",
   "language": "python",
   "name": "python3"
  },
  "language_info": {
   "codemirror_mode": {
    "name": "ipython",
    "version": 3
   },
   "file_extension": ".py",
   "mimetype": "text/x-python",
   "name": "python",
   "nbconvert_exporter": "python",
   "pygments_lexer": "ipython3",
   "version": "3.7.0"
  }
 },
 "nbformat": 4,
 "nbformat_minor": 2
}
